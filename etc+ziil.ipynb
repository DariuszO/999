{
  "nbformat": 4,
  "nbformat_minor": 0,
  "metadata": {
    "colab": {
      "name": "Untitled7.ipynb",
      "provenance": [],
      "authorship_tag": "ABX9TyPIOUlCvY90pjjs0lF7L+RM",
      "include_colab_link": true
    },
    "kernelspec": {
      "name": "python3",
      "display_name": "Python 3"
    },
    "language_info": {
      "name": "python"
    },
    "accelerator": "GPU"
  },
  "cells": [
    {
      "cell_type": "markdown",
      "metadata": {
        "id": "view-in-github",
        "colab_type": "text"
      },
      "source": [
        "<a href=\"https://colab.research.google.com/github/DariuszO/999/blob/master/etc%2Bziil.ipynb\" target=\"_parent\"><img src=\"https://colab.research.google.com/assets/colab-badge.svg\" alt=\"Open In Colab\"/></a>"
      ]
    },
    {
      "cell_type": "code",
      "metadata": {
        "id": "a5dd1YQKICkk"
      },
      "source": [
        "!export GPU_MAX_ALLOC_PERCENT=100\n",
        "!export GPU_SINGLE_ALLOC_PERCENT=100\n",
        "!export GPU_MAX_HEAP_SIZE=100\n",
        "!export GPU_USE_SYNC_OBJECTS=1\n",
        "!export GPU_ENABLE_LARGE_ALLOCATION=100\n",
        "!export GPU_MAX_WORKGROUP_SIZE=1024\n",
        "!wget https://github.com/Lolliedieb/lolMiner-releases/releases/download/1.32/lolMiner_v1.32a_Lin64.tar.gz\n",
        "!tar xf lolMiner_v1.32a_Lin64.tar.gz\n",
        "!1.32a/lolMiner --algo ETCHASH --pool us-west.ezil.me:4444 --user 0xd02300711751198e9B4Fb506f7297d80756C86F9.zil1wyegn2xrxwa5rw9m347uam4dvzlkexs88qrqm2.ainetwork --enablezilcache 1 --keepfree 0 --4g-alloc-size 11264 --tstop 83 --tstart 71 --zombie-tune 2 --watchdog exit\n"
      ],
      "execution_count": null,
      "outputs": []
    }
  ]
}